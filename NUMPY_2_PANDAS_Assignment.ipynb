{
 "cells": [
  {
   "cell_type": "code",
   "execution_count": null,
   "metadata": {},
   "outputs": [],
   "source": [
    "Task 1 \n",
    "\n",
    "Given a sequence of n values [x1, x2... xn]. The kth moving avarge of given sequence is defined as following: Total values in output will array of size n - k + 1 Every individual output value will be (sum of first kth values)/k For next value, it will increment to next element (sum of kth values from 2nd value)/k"
   ]
  },
  {
   "cell_type": "code",
   "execution_count": 3,
   "metadata": {},
   "outputs": [],
   "source": [
    "import numpy as np\n",
    "n = [10, 20, 30, 40, 50, 60, 70, 80, 90, 100]\n",
    "k = 4\n",
    "npArray1 = np.array(n)"
   ]
  },
  {
   "cell_type": "code",
   "execution_count": 4,
   "metadata": {},
   "outputs": [],
   "source": [
    "def movingAverage(array1, AverageSize):\n",
    "    size = array1.shape[0]-AverageSize\n",
    "    emptyArray1 = np.empty(size)\n",
    "    \n",
    "    for i in range(size):\n",
    "        emptyArray1[i] = npArray1[i:i+AverageSize].sum()\n",
    "    return emptyArray1"
   ]
  },
  {
   "cell_type": "code",
   "execution_count": 5,
   "metadata": {},
   "outputs": [
    {
     "data": {
      "text/plain": [
       "array([100., 140., 180., 220., 260., 300.])"
      ]
     },
     "execution_count": 5,
     "metadata": {},
     "output_type": "execute_result"
    }
   ],
   "source": [
    "\n",
    "movingAverage(npArray1, k)"
   ]
  },
  {
   "cell_type": "code",
   "execution_count": 6,
   "metadata": {},
   "outputs": [
    {
     "name": "stdout",
     "output_type": "stream",
     "text": [
      "Output for testing purpose: \n"
     ]
    },
    {
     "data": {
      "text/plain": [
       "array([ 60.,  90., 120., 150., 180., 210., 240., 270., 190., 100.])"
      ]
     },
     "execution_count": 6,
     "metadata": {},
     "output_type": "execute_result"
    }
   ],
   "source": [
    "print('Output for testing purpose: ')\n",
    "npArray12 = np.array([3,5,7,2,8,10,11,65,72,81,99,100,150])\n",
    "movingAverage(npArray12, 3)"
   ]
  },
  {
   "cell_type": "code",
   "execution_count": null,
   "metadata": {},
   "outputs": [],
   "source": [
    "Task 2 - 1 \n",
    "\n",
    "How to count distance to the previous zero For each value, count the difference back to the previous zero (or start of the index, whichever is closer)"
   ]
  },
  {
   "cell_type": "code",
   "execution_count": 7,
   "metadata": {},
   "outputs": [],
   "source": [
    "import pandas as pd"
   ]
  },
  {
   "cell_type": "code",
   "execution_count": 8,
   "metadata": {},
   "outputs": [
    {
     "data": {
      "text/plain": [
       "(10, 1)"
      ]
     },
     "execution_count": 8,
     "metadata": {},
     "output_type": "execute_result"
    }
   ],
   "source": [
    "x = pd.DataFrame({\"X\": [7,2,0,3,4,2,5,0,3,4]})\n",
    "x.shape"
   ]
  },
  {
   "cell_type": "code",
   "execution_count": 9,
   "metadata": {},
   "outputs": [
    {
     "name": "stdout",
     "output_type": "stream",
     "text": [
      "Input column is X and output or nearest zero is in Y column\n"
     ]
    },
    {
     "data": {
      "text/html": [
       "<div>\n",
       "<style scoped>\n",
       "    .dataframe tbody tr th:only-of-type {\n",
       "        vertical-align: middle;\n",
       "    }\n",
       "\n",
       "    .dataframe tbody tr th {\n",
       "        vertical-align: top;\n",
       "    }\n",
       "\n",
       "    .dataframe thead th {\n",
       "        text-align: right;\n",
       "    }\n",
       "</style>\n",
       "<table border=\"1\" class=\"dataframe\">\n",
       "  <thead>\n",
       "    <tr style=\"text-align: right;\">\n",
       "      <th></th>\n",
       "      <th>X</th>\n",
       "      <th>Y</th>\n",
       "    </tr>\n",
       "  </thead>\n",
       "  <tbody>\n",
       "    <tr>\n",
       "      <th>0</th>\n",
       "      <td>7</td>\n",
       "      <td>0</td>\n",
       "    </tr>\n",
       "    <tr>\n",
       "      <th>1</th>\n",
       "      <td>2</td>\n",
       "      <td>1</td>\n",
       "    </tr>\n",
       "    <tr>\n",
       "      <th>2</th>\n",
       "      <td>0</td>\n",
       "      <td>0</td>\n",
       "    </tr>\n",
       "    <tr>\n",
       "      <th>3</th>\n",
       "      <td>3</td>\n",
       "      <td>1</td>\n",
       "    </tr>\n",
       "    <tr>\n",
       "      <th>4</th>\n",
       "      <td>4</td>\n",
       "      <td>2</td>\n",
       "    </tr>\n",
       "    <tr>\n",
       "      <th>5</th>\n",
       "      <td>2</td>\n",
       "      <td>3</td>\n",
       "    </tr>\n",
       "    <tr>\n",
       "      <th>6</th>\n",
       "      <td>5</td>\n",
       "      <td>4</td>\n",
       "    </tr>\n",
       "    <tr>\n",
       "      <th>7</th>\n",
       "      <td>0</td>\n",
       "      <td>0</td>\n",
       "    </tr>\n",
       "    <tr>\n",
       "      <th>8</th>\n",
       "      <td>3</td>\n",
       "      <td>1</td>\n",
       "    </tr>\n",
       "    <tr>\n",
       "      <th>9</th>\n",
       "      <td>4</td>\n",
       "      <td>2</td>\n",
       "    </tr>\n",
       "  </tbody>\n",
       "</table>\n",
       "</div>"
      ],
      "text/plain": [
       "   X  Y\n",
       "0  7  0\n",
       "1  2  1\n",
       "2  0  0\n",
       "3  3  1\n",
       "4  4  2\n",
       "5  2  3\n",
       "6  5  4\n",
       "7  0  0\n",
       "8  3  1\n",
       "9  4  2"
      ]
     },
     "execution_count": 9,
     "metadata": {},
     "output_type": "execute_result"
    }
   ],
   "source": [
    "temp = 0\n",
    "x['Y'] = 0\n",
    "\n",
    "for k in x.index:\n",
    "    if x['X'].loc[k]==0:\n",
    "        x['Y'].loc[k] = 0\n",
    "        temp = k\n",
    "    else:\n",
    "        x['Y'].loc[k] = k - temp\n",
    "\n",
    "print(\"Input column is X and output or nearest zero is in Y column\")\n",
    "x"
   ]
  },
  {
   "cell_type": "code",
   "execution_count": null,
   "metadata": {},
   "outputs": [],
   "source": [
    "Task 2 - 2 \n",
    "\n",
    "Create a date time index that contains each business day of 2015 and use it to index a Series of random numbers."
   ]
  },
  {
   "cell_type": "code",
   "execution_count": 11,
   "metadata": {},
   "outputs": [],
   "source": [
    "\n",
    "import pandas as pd\n",
    "import numpy as np"
   ]
  },
  {
   "cell_type": "code",
   "execution_count": 12,
   "metadata": {},
   "outputs": [],
   "source": [
    "\n",
    "varSeries = pd.DataFrame()\n",
    "varNoOfDays = np.arange(0,365,1)\n",
    "temp = pd.to_datetime(varNoOfDays, unit='d', origin = pd.Timestamp('01/Jan/2015'))\n",
    "varSeries['DateTime'] = temp\n",
    "varSeries['Month'] = temp.month\n",
    "varSeries['Quarter'] = temp.quarter\n",
    "varSeries['NOofDays'] = varNoOfDays"
   ]
  },
  {
   "cell_type": "code",
   "execution_count": 13,
   "metadata": {},
   "outputs": [],
   "source": [
    "varSeries['IsBusinessday'] = temp.weekday.values\n",
    "varSeries2 = varSeries[(varSeries.IsBusinessday != 6) & (varSeries.IsBusinessday != 5)]"
   ]
  },
  {
   "cell_type": "code",
   "execution_count": 14,
   "metadata": {},
   "outputs": [
    {
     "name": "stderr",
     "output_type": "stream",
     "text": [
      "C:\\Users\\HP\\Anaconda3\\lib\\site-packages\\pandas\\core\\frame.py:3781: SettingWithCopyWarning: \n",
      "A value is trying to be set on a copy of a slice from a DataFrame\n",
      "\n",
      "See the caveats in the documentation: http://pandas.pydata.org/pandas-docs/stable/indexing.html#indexing-view-versus-copy\n",
      "  return super(DataFrame, self).rename(**kwargs)\n",
      "C:\\Users\\HP\\Anaconda3\\lib\\site-packages\\ipykernel_launcher.py:3: SettingWithCopyWarning: \n",
      "A value is trying to be set on a copy of a slice from a DataFrame.\n",
      "Try using .loc[row_indexer,col_indexer] = value instead\n",
      "\n",
      "See the caveats in the documentation: http://pandas.pydata.org/pandas-docs/stable/indexing.html#indexing-view-versus-copy\n",
      "  This is separate from the ipykernel package so we can avoid doing imports until\n"
     ]
    },
    {
     "data": {
      "text/plain": [
       "<bound method NDFrame.describe of             Month  Quarter  RandomNo  IsBusinessday\n",
       "DateTime                                           \n",
       "2015-01-01      1        1       222              3\n",
       "2015-01-02      1        1       484              4\n",
       "2015-01-05      1        1       521              0\n",
       "2015-01-06      1        1       695              1\n",
       "2015-01-07      1        1       263              2\n",
       "2015-01-08      1        1       841              3\n",
       "2015-01-09      1        1       102              4\n",
       "2015-01-12      1        1       737              0\n",
       "2015-01-13      1        1       299              1\n",
       "2015-01-14      1        1        85              2\n",
       "2015-01-15      1        1       666              3\n",
       "2015-01-16      1        1       122              4\n",
       "2015-01-19      1        1       850              0\n",
       "2015-01-20      1        1       180              1\n",
       "2015-01-21      1        1       699              2\n",
       "2015-01-22      1        1       688              3\n",
       "2015-01-23      1        1         4              4\n",
       "2015-01-26      1        1       212              0\n",
       "2015-01-27      1        1       678              1\n",
       "2015-01-28      1        1        85              2\n",
       "2015-01-29      1        1       704              3\n",
       "2015-01-30      1        1       655              4\n",
       "2015-02-02      2        1       238              0\n",
       "2015-02-03      2        1       189              1\n",
       "2015-02-04      2        1       225              2\n",
       "2015-02-05      2        1       700              3\n",
       "2015-02-06      2        1       193              4\n",
       "2015-02-09      2        1       579              0\n",
       "2015-02-10      2        1       927              1\n",
       "2015-02-11      2        1       166              2\n",
       "...           ...      ...       ...            ...\n",
       "2015-11-20     11        4       822              4\n",
       "2015-11-23     11        4       105              0\n",
       "2015-11-24     11        4       155              1\n",
       "2015-11-25     11        4       585              2\n",
       "2015-11-26     11        4       283              3\n",
       "2015-11-27     11        4       877              4\n",
       "2015-11-30     11        4        82              0\n",
       "2015-12-01     12        4       837              1\n",
       "2015-12-02     12        4       550              2\n",
       "2015-12-03     12        4       522              3\n",
       "2015-12-04     12        4       867              4\n",
       "2015-12-07     12        4       299              0\n",
       "2015-12-08     12        4       377              1\n",
       "2015-12-09     12        4       554              2\n",
       "2015-12-10     12        4       475              3\n",
       "2015-12-11     12        4       636              4\n",
       "2015-12-14     12        4       309              0\n",
       "2015-12-15     12        4       262              1\n",
       "2015-12-16     12        4       300              2\n",
       "2015-12-17     12        4       753              3\n",
       "2015-12-18     12        4        24              4\n",
       "2015-12-21     12        4       357              0\n",
       "2015-12-22     12        4        49              1\n",
       "2015-12-23     12        4        87              2\n",
       "2015-12-24     12        4       335              3\n",
       "2015-12-25     12        4       842              4\n",
       "2015-12-28     12        4        27              0\n",
       "2015-12-29     12        4       209              1\n",
       "2015-12-30     12        4       543              2\n",
       "2015-12-31     12        4       569              3\n",
       "\n",
       "[261 rows x 4 columns]>"
      ]
     },
     "execution_count": 14,
     "metadata": {},
     "output_type": "execute_result"
    }
   ],
   "source": [
    "varSeries2.rename(index=str, columns={'NOofDays': 'RandomNo'}, inplace=True)\n",
    "varSeries2.set_index('DateTime',inplace=True)\n",
    "varSeries2['RandomNo'] = np.random.randint(1,999,size=varSeries2.shape[0]) \n",
    "varSeries2.describe"
   ]
  },
  {
   "cell_type": "code",
   "execution_count": 15,
   "metadata": {},
   "outputs": [
    {
     "ename": "SyntaxError",
     "evalue": "invalid syntax (<ipython-input-15-9a83eb755a71>, line 1)",
     "output_type": "error",
     "traceback": [
      "\u001b[1;36m  File \u001b[1;32m\"<ipython-input-15-9a83eb755a71>\"\u001b[1;36m, line \u001b[1;32m1\u001b[0m\n\u001b[1;33m    Task 2 - 3\u001b[0m\n\u001b[1;37m         ^\u001b[0m\n\u001b[1;31mSyntaxError\u001b[0m\u001b[1;31m:\u001b[0m invalid syntax\n"
     ]
    }
   ],
   "source": [
    "Task 2 - 3 \n",
    "Find sum of the values in series for every 'Wednesday"
   ]
  },
  {
   "cell_type": "code",
   "execution_count": 16,
   "metadata": {},
   "outputs": [
    {
     "data": {
      "text/plain": [
       "21267"
      ]
     },
     "execution_count": 16,
     "metadata": {},
     "output_type": "execute_result"
    }
   ],
   "source": [
    "wedSum = varSeries2[varSeries2.IsBusinessday == 2].RandomNo.sum()\n",
    "wedSum"
   ]
  },
  {
   "cell_type": "code",
   "execution_count": null,
   "metadata": {},
   "outputs": [],
   "source": [
    "Task 2 - 4 \n",
    "Average for each calendar month"
   ]
  },
  {
   "cell_type": "code",
   "execution_count": 17,
   "metadata": {},
   "outputs": [
    {
     "name": "stdout",
     "output_type": "stream",
     "text": [
      "Sum of random values in a 1th month is 9792\n",
      "Sum of random values in a 2th month is 9833\n",
      "Sum of random values in a 3th month is 11779\n",
      "Sum of random values in a 4th month is 11838\n",
      "Sum of random values in a 5th month is 10071\n",
      "Sum of random values in a 6th month is 10411\n",
      "Sum of random values in a 7th month is 10770\n",
      "Sum of random values in a 8th month is 10464\n",
      "Sum of random values in a 9th month is 15459\n",
      "Sum of random values in a 10th month is 11323\n",
      "Sum of random values in a 11th month is 7602\n",
      "Sum of random values in a 12th month is 9783\n"
     ]
    }
   ],
   "source": [
    "for i in varSeries2.Month.unique():\n",
    "    print('Sum of random values in a {}th month is {}'.format(i,varSeries2[varSeries2.Month == i].RandomNo.sum()))"
   ]
  },
  {
   "cell_type": "code",
   "execution_count": null,
   "metadata": {},
   "outputs": [],
   "source": [
    "Task 2 - 5 For each group of four consecutive calendar months in series, find the date on which the highest value occured"
   ]
  },
  {
   "cell_type": "code",
   "execution_count": 18,
   "metadata": {},
   "outputs": [
    {
     "name": "stdout",
     "output_type": "stream",
     "text": [
      "Sum of random values in a 1th Quarter is 31404\n",
      "Sum of random values in a 2th Quarter is 32320\n",
      "Sum of random values in a 3th Quarter is 36693\n",
      "Sum of random values in a 4th Quarter is 28708\n"
     ]
    }
   ],
   "source": [
    "for i in varSeries2.Quarter.unique():\n",
    "    print('Sum of random values in a {}th Quarter is {}'.format(i,varSeries2[varSeries2.Quarter == i].RandomNo.sum()))"
   ]
  }
 ],
 "metadata": {
  "kernelspec": {
   "display_name": "Python 3",
   "language": "python",
   "name": "python3"
  },
  "language_info": {
   "codemirror_mode": {
    "name": "ipython",
    "version": 3
   },
   "file_extension": ".py",
   "mimetype": "text/x-python",
   "name": "python",
   "nbconvert_exporter": "python",
   "pygments_lexer": "ipython3",
   "version": "3.7.1"
  }
 },
 "nbformat": 4,
 "nbformat_minor": 2
}
